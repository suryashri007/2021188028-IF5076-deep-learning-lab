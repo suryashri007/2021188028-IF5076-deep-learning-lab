{
 "cells": [
  {
   "cell_type": "code",
   "execution_count": 1,
   "id": "3ae5d827",
   "metadata": {},
   "outputs": [],
   "source": [
    "import pandas as pd\n",
    "import matplotlib.pyplot as plt\n",
    "import numpy as np"
   ]
  },
  {
   "cell_type": "code",
   "execution_count": 2,
   "id": "ad35894a",
   "metadata": {},
   "outputs": [
    {
     "name": "stdout",
     "output_type": "stream",
     "text": [
      "0      1.1\n",
      "1      1.3\n",
      "2      1.5\n",
      "3      2.0\n",
      "4      2.2\n",
      "5      2.9\n",
      "6      3.0\n",
      "7      3.2\n",
      "8      3.2\n",
      "9      3.7\n",
      "10     3.9\n",
      "11     4.0\n",
      "12     4.0\n",
      "13     4.1\n",
      "14     4.5\n",
      "15     4.9\n",
      "16     5.1\n",
      "17     5.3\n",
      "18     5.9\n",
      "19     6.0\n",
      "20     6.8\n",
      "21     7.1\n",
      "22     7.9\n",
      "23     8.2\n",
      "24     8.7\n",
      "25     9.0\n",
      "26     9.5\n",
      "27     9.6\n",
      "28    10.3\n",
      "29    10.5\n",
      "Name: YearsExperience, dtype: float64\n",
      "0      39343.0\n",
      "1      46205.0\n",
      "2      37731.0\n",
      "3      43525.0\n",
      "4      39891.0\n",
      "5      56642.0\n",
      "6      60150.0\n",
      "7      54445.0\n",
      "8      64445.0\n",
      "9      57189.0\n",
      "10     63218.0\n",
      "11     55794.0\n",
      "12     56957.0\n",
      "13     57081.0\n",
      "14     61111.0\n",
      "15     67938.0\n",
      "16     66029.0\n",
      "17     83088.0\n",
      "18     81363.0\n",
      "19     93940.0\n",
      "20     91738.0\n",
      "21     98273.0\n",
      "22    101302.0\n",
      "23    113812.0\n",
      "24    109431.0\n",
      "25    105582.0\n",
      "26    116969.0\n",
      "27    112635.0\n",
      "28    122391.0\n",
      "29    121872.0\n",
      "Name: Salary, dtype: float64\n",
      "a is  9449.962321455081\n",
      "b is  25792.200198668666\n"
     ]
    }
   ],
   "source": [
    "df=pd.read_csv(\"Salary_Data.csv\")\n",
    "X=df.iloc[:,0]\n",
    "y=df.iloc[:,1]\n",
    "print(X)\n",
    "print(y)\n",
    "Xavg=X.mean()\n",
    "yavg=y.mean()\n",
    "Xy=X*y\n",
    "Xyavg=Xy.mean()\n",
    "avgXavgy=Xavg*yavg\n",
    "Xsq=X*X\n",
    "Xsqavg=Xsq.mean()\n",
    "Xavgsq=Xavg*Xavg\n",
    "a=(Xyavg-avgXavgy)/(Xsqavg-Xavgsq)\n",
    "b=yavg-(a*Xavg)\n",
    "print(\"a is \",a)\n",
    "print(\"b is \",b)\n"
   ]
  },
  {
   "cell_type": "code",
   "execution_count": 3,
   "id": "a3c6620f",
   "metadata": {},
   "outputs": [
    {
     "name": "stdout",
     "output_type": "stream",
     "text": [
      "[ 1.   1.3  1.6  1.9  2.2  2.5  2.8  3.1  3.4  3.7  4.   4.3  4.6  4.9\n",
      "  5.2  5.5  5.8  6.1  6.4  6.7  7.   7.3  7.6  7.9  8.2  8.5  8.8  9.1\n",
      "  9.4  9.7 10.  10.3 10.6 10.9 11.2 11.5 11.8 12.1 12.4 12.7 13.  13.3\n",
      " 13.6 13.9 14.2 14.5 14.8 15.1 15.4 15.7 16.  16.3 16.6 16.9 17.2 17.5\n",
      " 17.8 18.1 18.4 18.7 19.  19.3 19.6 19.9]\n"
     ]
    }
   ],
   "source": [
    "YOE=np.arange(1,20,0.3)\n",
    "print(YOE)"
   ]
  },
  {
   "cell_type": "code",
   "execution_count": 4,
   "id": "0b54006b",
   "metadata": {},
   "outputs": [
    {
     "data": {
      "text/plain": [
       "[35242.16252012375,\n",
       " 38077.151216560276,\n",
       " 40912.1399129968,\n",
       " 43747.12860943332,\n",
       " 46582.11730586985,\n",
       " 49417.10600230637,\n",
       " 52252.09469874289,\n",
       " 55087.08339517942,\n",
       " 57922.07209161595,\n",
       " 60757.06078805247,\n",
       " 63592.04948448899,\n",
       " 66427.03818092552,\n",
       " 69262.02687736205,\n",
       " 72097.01557379856,\n",
       " 74932.0042702351,\n",
       " 77766.99296667162,\n",
       " 80601.98166310813,\n",
       " 83436.97035954466,\n",
       " 86271.95905598119,\n",
       " 89106.94775241772,\n",
       " 91941.93644885425,\n",
       " 94776.92514529076,\n",
       " 97611.91384172729,\n",
       " 100446.90253816382,\n",
       " 103281.89123460033,\n",
       " 106116.87993103685,\n",
       " 108951.86862747339,\n",
       " 111786.85732390992,\n",
       " 114621.84602034645,\n",
       " 117456.83471678296,\n",
       " 120291.82341321949,\n",
       " 123126.812109656,\n",
       " 125961.80080609253,\n",
       " 128796.78950252906,\n",
       " 131631.7781989656,\n",
       " 134466.7668954021,\n",
       " 137301.75559183862,\n",
       " 140136.74428827516,\n",
       " 142971.7329847117,\n",
       " 145806.72168114822,\n",
       " 148641.71037758474,\n",
       " 151476.69907402125,\n",
       " 154311.68777045776,\n",
       " 157146.6764668943,\n",
       " 159981.66516333085,\n",
       " 162816.65385976736,\n",
       " 165651.64255620388,\n",
       " 168486.6312526404,\n",
       " 171321.61994907694,\n",
       " 174156.60864551348,\n",
       " 176991.59734194996,\n",
       " 179826.58603838654,\n",
       " 182661.57473482302,\n",
       " 185496.56343125956,\n",
       " 188331.55212769608,\n",
       " 191166.54082413262,\n",
       " 194001.52952056914,\n",
       " 196836.51821700565,\n",
       " 199671.50691344216,\n",
       " 202506.4956098787,\n",
       " 205341.48430631525,\n",
       " 208176.47300275177,\n",
       " 211011.46169918828,\n",
       " 213846.4503956248]"
      ]
     },
     "execution_count": 4,
     "metadata": {},
     "output_type": "execute_result"
    }
   ],
   "source": [
    "SAL=[]\n",
    "for j in YOE:\n",
    "    SAL.append((a*j)+b)\n",
    "SAL"
   ]
  },
  {
   "cell_type": "code",
   "execution_count": 6,
   "id": "41bcd1f6",
   "metadata": {},
   "outputs": [
    {
     "data": {
      "text/plain": [
       "[<matplotlib.lines.Line2D at 0x7fb990df1790>]"
      ]
     },
     "execution_count": 6,
     "metadata": {},
     "output_type": "execute_result"
    },
    {
     "data": {
      "image/png": "[encoded data removed]",
      "text/plain": [
       "<Figure size 432x288 with 1 Axes>"
      ]
     },
     "metadata": {
      "needs_background": "light"
     },
     "output_type": "display_data"
    }
   ],
   "source": [
    "plt.scatter(X,y)\n",
    "plt.plot(YOE,SAL)"
   ]
  },
  {
   "cell_type": "code",
   "execution_count": null,
   "id": "a7227725",
   "metadata": {},
   "outputs": [],
   "source": []
  },
  {
   "cell_type": "code",
   "execution_count": null,
   "id": "9a5ddf3b",
   "metadata": {},
   "outputs": [],
   "source": []
  }
 ],
 "metadata": {
  "kernelspec": {
   "display_name": "Python 3 (ipykernel)",
   "language": "python",
   "name": "python3"
  },
  "language_info": {
   "codemirror_mode": {
    "name": "ipython",
    "version": 3
   },
   "file_extension": ".py",
   "mimetype": "text/x-python",
   "name": "python",
   "nbconvert_exporter": "python",
   "pygments_lexer": "ipython3",
   "version": "3.9.12"
  }
 },
 "nbformat": 4,
 "nbformat_minor": 5
}
